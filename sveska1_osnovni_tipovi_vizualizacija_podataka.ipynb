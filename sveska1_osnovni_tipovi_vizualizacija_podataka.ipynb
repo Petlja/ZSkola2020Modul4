{
 "cells": [
  {
   "cell_type": "markdown",
   "metadata": {},
   "source": [
    "# Основне технике визуализације података - подсећање"
   ]
  },
  {
   "cell_type": "markdown",
   "metadata": {},
   "source": [
    "У наставку ћемо обновити неке претходно уведене типове дијаграма (линијске, стубичасте и секторске) на примеру припремљених података о студентима и дипломцима преузетих са сајта Републичког завода за статистику. Уз обнављање већ познатих опција које ови дијаграми нуде, искористићемо и увести и неке нове (ознаке на линијама, тип линије, наслагање стубића и измештање стубића) у складу са подацима који су нам на располагању."
   ]
  },
  {
   "cell_type": "markdown",
   "metadata": {},
   "source": [
    "Иако се учитавање библиотеке може одиграти на било ком месту у радној свесци, \"бонтон\" је да се све библиотеке увезу на почетку, чиме читалац одмах на почетку има представу које све додатне функције се користе у анализи у наставку. За ово подсећање користићемо библиотеке pandas и matplotlib које ћемо учитати и преименовати у њихове типичне скраћенице."
   ]
  },
  {
   "cell_type": "code",
   "execution_count": null,
   "metadata": {},
   "outputs": [],
   "source": [
    "import pandas as pd\n",
    "import matplotlib.pyplot as plt"
   ]
  },
  {
   "cell_type": "markdown",
   "metadata": {},
   "source": [
    "Наша највећа мотивација за коришћење pandas библиотеке је у једноставности учитавања, манипулације и чувања табеларних података. Стога ћемо и у наставку почети са учитавањем *read_csv* и прегледањем *head* фајла *republika_srbija_visoko_2009_2017.csv*:"
   ]
  },
  {
   "cell_type": "code",
   "execution_count": null,
   "metadata": {},
   "outputs": [],
   "source": [
    "data = pd.read_csv('podaci/republika_srbija_visoko_2009_2017.csv')\n",
    "data.head()"
   ]
  },
  {
   "cell_type": "markdown",
   "metadata": {},
   "source": [
    "Ова табела настала је комбиновањем више извештаја које издаје Републички завод за статистику (Општине и региони у Републици Србији), а у којима се налазе информације о броју уписаних студената у току одговарајуће школске године на нивоу државе, али и појединачних региона и општина. Како се формат тих табела пар пута мењао у протеклих 10 година, у учитаној табели су само сумирани подаци на нивоу целе Србије, а у некој наредној радној свесци ћемо додатно анализирати и једну конкретну годину."
   ]
  },
  {
   "cell_type": "markdown",
   "metadata": {},
   "source": [
    "Како табела садржи велики број колона па их не сагледавамо лепо прегледом првих пар редова, све колоне можемо излистати на следећи начин:"
   ]
  },
  {
   "cell_type": "code",
   "execution_count": null,
   "metadata": {},
   "outputs": [],
   "source": [
    "data.columns"
   ]
  },
  {
   "cell_type": "markdown",
   "metadata": {},
   "source": [
    "Међутим поред назива колона, уз помоћ функција *info* можемо сазнати и тип података који се крије у свакој од колона:"
   ]
  },
  {
   "cell_type": "code",
   "execution_count": null,
   "metadata": {},
   "outputs": [],
   "source": [
    "data.info()"
   ]
  },
  {
   "cell_type": "markdown",
   "metadata": {},
   "source": [
    "Корисно је што поред типа података (*int64* или *float64*) сазнајемо и колико има уноса у којој колони, види нпр. \"Ukupno diplomiranih zene: 6 non-null float64\" где сазнајемо да само за 6 од 9 година имамо информације о броју жена које су дипломирале (то је једна од поменутих измена која се дешавала у публикацију РСЗ-а, тек у неком каснијем моменту кренули су да прикупљају и бележе одвојене податке за жене, што је направило измене у формату у коме се чувају подаци)."
   ]
  },
  {
   "cell_type": "markdown",
   "metadata": {},
   "source": [
    "Ова табелица као што видимо, не садржи тако пуно података, али и даље можемо проверити да ли постоје неке интересантне информације које нам нису видљиве у табеларном облику. \n",
    "За почетак ћемо представити укупан број студената на факултетима линијским дијаграмом. У наставку је најосновнији облик фунцкије *plot* са само једним аргументом. Ако је функцији прослеђена само 1 листа, вредности из листе коришћене су за координате на у оси, а на х оси су бројеви редом од 0:"
   ]
  },
  {
   "cell_type": "code",
   "execution_count": null,
   "metadata": {},
   "outputs": [],
   "source": [
    "plt.plot(data['Upisani studenti fakulteti'])\n",
    "plt.show()"
   ]
  },
  {
   "cell_type": "markdown",
   "metadata": {},
   "source": [
    "Међутим, ми у табели имамо и године којима одговарају ови бројеви студената, па можемо и то проследити функцији *plot*:"
   ]
  },
  {
   "cell_type": "code",
   "execution_count": null,
   "metadata": {},
   "outputs": [],
   "source": [
    "plt.plot(data['Godina upisa/diplome'], data['Upisani studenti fakulteti'])\n",
    "#plt.plot(data['Godina upisa/diplome'], data['Upisani studenti fakulteti'], 'o')\n",
    "#plt.plot(data['Godina upisa/diplome'], data['Upisani studenti fakulteti'], 'o-')\n",
    "#plt.plot(data['Godina upisa/diplome'], data['Upisani studenti fakulteti'], 'o--', color = 'tomato')\n",
    "plt.xlabel('Godina upisa')\n",
    "plt.ylabel('Ukupan broj upisnih studenata')\n",
    "plt.show()"
   ]
  },
  {
   "cell_type": "markdown",
   "metadata": {},
   "source": [
    "У претходном блоку кода додали смо имена х и у осе, али смо додали и пар линија које су коментарисане (више различитих опција линијских дијаграма за исте податке), истражите разлике!"
   ]
  },
  {
   "cell_type": "markdown",
   "metadata": {},
   "source": [
    "У табели имамо и број студената у вишим школама, али и број студената који су дипломирали и слично. Ако желимо да представимо више различитих линија на дијаграмима, то можемо видети на следећи начин.\n",
    "У наставку смо и одступили од стандардних боја, бирајући неке од именованих боја које можете наћи на овој листи: https://matplotlib.org/3.1.0/_images/sphx_glr_named_colors_003.png"
   ]
  },
  {
   "cell_type": "code",
   "execution_count": null,
   "metadata": {},
   "outputs": [],
   "source": [
    "plt.plot(data['Godina upisa/diplome'], data['Upisani studenti fakulteti'], 'o--', color = 'salmon',label = 'Ukupan broj studenata na fakultetima')\n",
    "plt.plot(data['Godina upisa/diplome'], data['Budzetski studenti fakulteti'], 'o--', color = 'darkcyan',label = 'Budžetski studenti na fakultetima')\n",
    "plt.xlabel('Godina upisa')\n",
    "plt.ylabel('Broj studenata na fakultetima')\n",
    "plt.ylim([0,230000])\n",
    "plt.legend()\n",
    "plt.show()"
   ]
  },
  {
   "cell_type": "markdown",
   "metadata": {},
   "source": [
    "Међутим, када се вредности у два различита низа оволико разликују, није лако више увидети шта се дешава на појединачним линијама (обратити пажњу, на претходном дијаграму где смо посматрали само укупан број студената на факултетима, видели смо и неке успоне и падове у броју студената током година, што је последица \"зумираности\" дијаграма зато што је посматрани опсег на у оси био између 180 000 и 220 000 студената, на последњем дијаграму, гледамо цео распон у осе од 0 до 220 000 студената, и у том опсегу наведени падови су практично невидљиви, само се може видети благи трент пораста студената). \n",
    "Слично можемо погледати у каквом су односу бројеви студената на факултетима и вишим школама:"
   ]
  },
  {
   "cell_type": "code",
   "execution_count": null,
   "metadata": {},
   "outputs": [],
   "source": [
    "plt.plot(data['Godina upisa/diplome'], data['Upisani studenti fakulteti'], 'o--', color = 'salmon',label = 'Ukupan broj studenata na fakultetima')\n",
    "plt.plot(data['Godina upisa/diplome'], data['Upisani studenti vise'], 'o--', color = 'darkcyan',label = 'Ukupan broj studenata na visim skolama')\n",
    "plt.xlabel('Godina upisa')\n",
    "plt.ylabel('Broj studenata')\n",
    "plt.ylim([0,225000])\n",
    "plt.legend()\n",
    "plt.show()"
   ]
  },
  {
   "cell_type": "markdown",
   "metadata": {},
   "source": [
    "У овом случају је још теже уочити да ли постоје неке везе међу овим бројевима зато што је укупан број студената на вишим школама далеко мањи. Међутим, ако смо заинтересовани да ли дати бројеви студената варирају и колико, уместо да пратимо апсолутни број студената из године у годину, можемо истражити како се број студената мења у односу на прву посматрану годину:"
   ]
  },
  {
   "cell_type": "code",
   "execution_count": null,
   "metadata": {
    "scrolled": true
   },
   "outputs": [],
   "source": [
    "plt.plot(data['Godina upisa/diplome'],data['Upisani studenti fakulteti']/data['Upisani studenti fakulteti'][0], 'o--', color = 'salmon')\n",
    "plt.plot(data['Godina upisa/diplome'],data['Upisani studenti vise']/data['Upisani studenti vise'][0], 'o--', color = 'darkcyan')\n",
    "plt.axhline(y=1,color='grey')\n",
    "plt.xlabel('Godina upisa')\n",
    "plt.ylabel('Odnos broja studenata u datoj i 2009. godini')\n",
    "plt.legend(['Fakulteti','Vise skole'])\n",
    "plt.show()"
   ]
  },
  {
   "cell_type": "markdown",
   "metadata": {},
   "source": [
    "Упозорење у вези са повезаним линијским дијаграмима: Покушајте да прво сортирате табелу по колони коју желите да нацртате па тек онда да нацртате одговарајући дијаграм."
   ]
  },
  {
   "cell_type": "code",
   "execution_count": null,
   "metadata": {},
   "outputs": [],
   "source": [
    "# место за ваш код"
   ]
  },
  {
   "cell_type": "code",
   "execution_count": null,
   "metadata": {},
   "outputs": [],
   "source": [
    "# data = data.sort_values(by='Godina upisa/diplome')\n",
    "# plt.plot(data['Godina upisa/diplome'],data['Upisani studenti vise'])\n",
    "# plt.show()"
   ]
  },
  {
   "cell_type": "markdown",
   "metadata": {},
   "source": [
    "Како је колона која садржи информације о укупном броју студената (и на факултетима и на вишим школама) непотпуна, у наставку ћемо је допунити:"
   ]
  },
  {
   "cell_type": "code",
   "execution_count": null,
   "metadata": {},
   "outputs": [],
   "source": [
    "data['Ukupno studenata']=data['Upisani studenti fakulteti']+data['Upisani studenti vise']"
   ]
  },
  {
   "cell_type": "markdown",
   "metadata": {},
   "source": [
    "Објективно, иако на х оси ових наших дијаграма имамо време, које је често довољан разлог да се одлучимо за линијски дијаграм, чињеница да број студената као измерена вредност има смисла само у дискретним временским тренуцима, позива да ипак можда ове податке представимо стубичастим дијаграмом. Подсетимо се прво основног формата ове функције:"
   ]
  },
  {
   "cell_type": "code",
   "execution_count": null,
   "metadata": {},
   "outputs": [],
   "source": [
    "plt.bar(data['Godina upisa/diplome'], data['Upisani studenti fakulteti'])\n",
    "plt.show()"
   ]
  },
  {
   "cell_type": "markdown",
   "metadata": {},
   "source": [
    "За разлику од функције *plot*, *bar* функцији је потребно проследити и х координате, тј. није могуће проследити само висине барова. Као и у функцији *plot* могуће је доделити одређену боју стубићима, као и означити одређен сет података за касније коришћење у легенди:"
   ]
  },
  {
   "cell_type": "code",
   "execution_count": null,
   "metadata": {
    "scrolled": true
   },
   "outputs": [],
   "source": [
    "plt.bar(data['Godina upisa/diplome'], data['Upisani studenti fakulteti'], color = 'salmon',label = 'Fakulteti')\n",
    "plt.bar(data['Godina upisa/diplome'], data['Upisani studenti vise'], color = 'darkcyan',label = 'Vise skole')\n",
    "plt.xlabel('Godina upisa')\n",
    "plt.ylabel('Ukupan broj upisnih studenata')\n",
    "plt.legend(loc='center left', bbox_to_anchor=(1, 0.9))\n",
    "plt.show()"
   ]
  },
  {
   "cell_type": "markdown",
   "metadata": {},
   "source": [
    "Ако нам је циљ да сагледамо укупан број студената који се школује у датом тренутку (без обзира на институцију у којој се школује), претходни дијаграм захтева од нас да у глави сабирамо висине стубића две различите боје, и када су међу њима разлике овако мале, са овог дијаграма није једноставно рећи да ли је укупно више студената било у 2016 или 2017 години. Постоје бар два начин да превазиђемо овај проблем у визуализацијама.\n",
    "Први је да уместо веће колоне (у овом случају броја студената на факултетима) цртамо стубиће укупног броја студената (и факултети и више школе), а затим преко нацртамо стубиће који одговарају колони са мањим вредностима:"
   ]
  },
  {
   "cell_type": "code",
   "execution_count": null,
   "metadata": {},
   "outputs": [],
   "source": [
    "plt.bar(data['Godina upisa/diplome'], data['Ukupno studenata'], color = 'salmon',label = 'Fakulteti')\n",
    "plt.bar(data['Godina upisa/diplome'], data['Upisani studenti vise'], color = 'darkcyan',label = 'Vise skole')\n",
    "plt.xlabel('Godina upisa')\n",
    "plt.ylabel('Ukupan broj upisnih studenata')\n",
    "plt.legend(loc='center left', bbox_to_anchor=(1, 0.9))\n",
    "plt.show()"
   ]
  },
  {
   "cell_type": "markdown",
   "metadata": {},
   "source": [
    "На овај начин су делови розе дијаграма прекривени и само они видљиви делови одговарају броју студената на факултетима. Овако са у осе директно очитавамо укупан број студената и број студената на вишим школама, док је број студената на факултетима разлика ова два броја (приметимо, добили смо олакшицу у представљању једног податка, али сада други податак захтева рачун у глави).\n",
    "Други начин да се разреши иста ситуација, је коришћење опције *bottom* у оквиру *bar* функције. Ова опција дозвољава да се стубићи настављају један на други тиме што се висина једног слоја стубића користи као почетна тачка за висине нових стубића. Ово је посебно погодно кад имате више од 2 категорије стубића које бисте надовезивали."
   ]
  },
  {
   "cell_type": "code",
   "execution_count": null,
   "metadata": {},
   "outputs": [],
   "source": [
    "plt.bar(data['Godina upisa/diplome'], data['Upisani studenti fakulteti'], color = 'salmon',label = 'Fakulteti')\n",
    "plt.bar(data['Godina upisa/diplome'], data['Upisani studenti vise'], bottom = data['Upisani studenti fakulteti'], color = 'darkcyan',label = 'Vise skole')\n",
    "plt.xlabel('Godina upisa')\n",
    "plt.ylabel('Ukupan broj upisnih studenata')\n",
    "plt.legend(loc='center left', bbox_to_anchor=(1, 1))\n",
    "plt.show()"
   ]
  },
  {
   "cell_type": "markdown",
   "metadata": {},
   "source": [
    "На последња два дијаграма смо обрнули редослед стубића да бисмо оставили могућност да се и број студената на факултету директно очитава са х осе. Поправите претходне редове кода да добијете идентичан график претходном!"
   ]
  },
  {
   "cell_type": "markdown",
   "metadata": {},
   "source": [
    "Коначно, код оваквих, надовезујућих графика, једна од идеја је и да се на једноставан начин осмотри како се однос међу категоријама мења током времена, па онда уместо да гледамо апсолутне вредности на у оси можемо посматрати проценте. Погледајмо исте податке и на тај начин:"
   ]
  },
  {
   "cell_type": "code",
   "execution_count": null,
   "metadata": {
    "scrolled": true
   },
   "outputs": [],
   "source": [
    "plt.bar(data['Godina upisa/diplome'], 100*data['Upisani studenti fakulteti']/data['Ukupno studenata'], color = 'salmon',label = 'Fakulteti')\n",
    "plt.bar(data['Godina upisa/diplome'], 100*data['Upisani studenti vise']/data['Ukupno studenata'], bottom = 100*data['Upisani studenti fakulteti']/data['Ukupno studenata'], color = 'darkcyan',label = 'Vise skole')\n",
    "plt.xlabel('Godina upisa')\n",
    "plt.ylabel('Procenat upisnih studenata')\n",
    "plt.grid(True,axis='y')\n",
    "plt.legend(loc='center left', bbox_to_anchor=(1, 1))\n",
    "plt.show()"
   ]
  },
  {
   "cell_type": "markdown",
   "metadata": {},
   "source": [
    "И на овај начин видимо да из године у годину више студената студира на факултетима, углавном преко 80%, да бисмо ово лакше уочили, на последњи график додали смо и хоризонталне линије на сваких 20%, функцијом *grid*."
   ]
  },
  {
   "cell_type": "markdown",
   "metadata": {},
   "source": [
    "Слично визуелно истраживање можемо извести и поредећи буџетских и самофинансирајуће студената на факултетима и(ли) вишим школама, пробајте сами једну од претходних визуализација и упредите ове две колоне:"
   ]
  },
  {
   "cell_type": "code",
   "execution_count": null,
   "metadata": {},
   "outputs": [],
   "source": [
    "# mesto za vas kod"
   ]
  },
  {
   "cell_type": "code",
   "execution_count": null,
   "metadata": {},
   "outputs": [],
   "source": [
    "# mesto za vas kod"
   ]
  },
  {
   "cell_type": "markdown",
   "metadata": {},
   "source": [
    "У наставку ћемо испробати још једну изузетно корисну функцију *subplot* којојм олакшавамо преглед више графика одједном тиме што креирамо поддијаграме:"
   ]
  },
  {
   "cell_type": "code",
   "execution_count": null,
   "metadata": {
    "scrolled": false
   },
   "outputs": [],
   "source": [
    "plt.figure(figsize=(15,5))\n",
    "plt.subplot(1,2,1)\n",
    "plt.plot(data['Godina upisa/diplome'], 100*data['Budzetski studenti fakulteti']/data['Upisani studenti fakulteti'],'o--',color='grey')\n",
    "plt.xlabel('Godina upisa')\n",
    "plt.ylabel('Procenat budzetskih studenata na fakultetima')\n",
    "\n",
    "plt.subplot(1,2,2)\n",
    "plt.plot(data['Godina upisa/diplome'], data['Budzetski studenti fakulteti'],'o--',color='grey')\n",
    "plt.plot(data['Godina upisa/diplome'], data['Upisani studenti fakulteti']-data['Budzetski studenti fakulteti'],'o--',color='salmon')\n",
    "plt.xlabel('Godina upisa')\n",
    "plt.ylabel('Ukupan broj studenata na fakultetima')\n",
    "plt.legend(['Studenti na budzetu','Samofinansirajuci studenti'])\n",
    "\n",
    "plt.show()"
   ]
  },
  {
   "cell_type": "markdown",
   "metadata": {},
   "source": [
    "Упоредним прегледом два графика можемо да пробамо да растумачимо збуњујуће резултате. На пример, график са леве стране приказује проценат студената који су на факултетима на буџету и на њему видимо да је у току последње 2 године проценат буџетских студената опао за 3-4% у односу на почетне године за које имамо податке. Како разматрамо проценте, може бити да је буџет који држава улаже, па самим тим и укупан број студената на буџету опао, а може бити и да је укупан број буџетских студената исти, а да се број самофинансирајућих студената повећао. Ово тестирамо тако што упоредо са процентом буџетских студената на левој страни цртамо и укупне бројеве буџетских и самофинансирајућих студената са десне стране. На десном графику сада примећујемо да је број буџетских студената доста сличан током година, чак у последњих пар година има више студената на буџету у односу на почетне године. Са друге стране, број студената који се самофинансирају је порастао за више од 20 000 што објашњава пад процента буџетских студената који смо опазили на десном графику."
   ]
  },
  {
   "cell_type": "markdown",
   "metadata": {},
   "source": [
    "У наставку ћемо једним примером демонстрирати различите начине да прикажемо упоредне вредности уз помоћ стубичастих дијаграма. Наиме, у табели постоје и подаци о укупном броју студената и студенткиња, па њих можемо из године у годину приказати на 2 дијаграма:"
   ]
  },
  {
   "cell_type": "code",
   "execution_count": null,
   "metadata": {},
   "outputs": [],
   "source": [
    "plt.figure(figsize=(10,3))\n",
    "plt.subplot(1,2,1)\n",
    "plt.bar(data['Godina upisa/diplome'], data['Ukupno studentkinja'], label='Studentkinje',color='#D6ED17FF')\n",
    "plt.title('Ukupan broj upisanih studentkinja')\n",
    "\n",
    "plt.subplot(1,2,2)\n",
    "plt.bar(data['Godina upisa/diplome'], data['Ukupno studenata']-data['Ukupno studentkinja'], label='Studenti',color='#606060')\n",
    "plt.title('Ukupan broj upisanih studenata')\n",
    "\n",
    "plt.show()"
   ]
  },
  {
   "cell_type": "markdown",
   "metadata": {},
   "source": [
    "Функција *bar* уколико се другачије не нагласи подешава опсег у осе тако да увек креће од 0, док је максимум такав да и највиши стубић стаје са мало празног простора изнад. Када гледамо само један дијаграм, то нам је углавном у реду, али ако као сада, хоћемо да упоредимо два типа информација, уколико не обратимо пажњу на чињеницу да су распони у оса различити може нам се учинити да не постоји родна разлика."
   ]
  },
  {
   "cell_type": "code",
   "execution_count": null,
   "metadata": {},
   "outputs": [],
   "source": [
    "plt.figure(figsize=(10,3))\n",
    "plt.subplot(1,2,1)\n",
    "plt.bar(data['Godina upisa/diplome'], data['Ukupno studentkinja'], label='Studentkinje',color='#D6ED17FF')\n",
    "plt.title('Ukupan broj upisanih studentkinja')\n",
    "plt.ylim([0,150000])\n",
    "\n",
    "plt.subplot(1,2,2)\n",
    "plt.bar(data['Godina upisa/diplome'], data['Ukupno studenata']-data['Ukupno studentkinja'], label='Studenti',color='#606060')\n",
    "plt.title('Ukupan broj upisanih studenata')\n",
    "plt.ylim([0,150000])\n",
    "\n",
    "plt.show()"
   ]
  },
  {
   "cell_type": "markdown",
   "metadata": {},
   "source": [
    "Сада већ видимо да постоји родна разлика, међутим ово није оптималан начин представљања података ако је циљ да се истакне разлика која постоји из године у годину. Ови појединачни дијаграми су ок ако је циљ да уочавамо потенцијалне трендове по групама, мада у том случају је боље исте податке сагледати као линијске дијаграме (проверите!)."
   ]
  },
  {
   "cell_type": "code",
   "execution_count": null,
   "metadata": {},
   "outputs": [],
   "source": []
  },
  {
   "cell_type": "markdown",
   "metadata": {},
   "source": [
    "Коначно, погледајмо ове исте податке када се налазе на једном заједничком дијаграму, тако да су позиције стубића смакнуте (не преклапају се) да би поређење било олакшано:"
   ]
  },
  {
   "cell_type": "code",
   "execution_count": null,
   "metadata": {},
   "outputs": [],
   "source": [
    "sirina = 0.3\n",
    "plt.bar(data['Godina upisa/diplome'] - sirina/2, data['Ukupno studentkinja'], sirina, label='Studentkinje',color='#D6ED17FF')\n",
    "plt.bar(data['Godina upisa/diplome'] + sirina/2, data['Ukupno studenata']-data['Ukupno studentkinja'], sirina, label='Studenti',color='#606060')\n",
    "plt.show()"
   ]
  },
  {
   "cell_type": "markdown",
   "metadata": {},
   "source": [
    "Да бисмо ово постигли, функцији *bar* проследили смо још један опциони аргумент а који се тиче ширине стубића (приметите да су стубићи сада ужи, овај аргумент можете додати и на претходним дијаграмима!). Али само увођење ширине не би померило стубиће лево и десно, то смо урадили мењајући х координате позиција стубића, где смо податке о студенткињама померили у лево у односу на године, а студенте у десно (одузимањем и додавањем половине ширине стубића). Испробајте пар различитих верзија за ширину, али и позиције стубића и додајте имена оса и легенду."
   ]
  },
  {
   "cell_type": "code",
   "execution_count": null,
   "metadata": {},
   "outputs": [],
   "source": []
  },
  {
   "cell_type": "markdown",
   "metadata": {},
   "source": [
    "Коначно, додајте овом дијаграму десни дијаграм на коме ће на исти начин бити представљени и упоређени бројеви студената и студенткиња који су дипломирали:"
   ]
  },
  {
   "cell_type": "code",
   "execution_count": null,
   "metadata": {
    "scrolled": false
   },
   "outputs": [],
   "source": [
    "plt.figure(figsize=(10,4))\n",
    "sirina = 0.3\n",
    "\n",
    "plt.subplot(1,2,1)\n",
    "plt.bar(data['Godina upisa/diplome'] - sirina/2, data['Ukupno studentkinja'], sirina, label='Studentkinje',color='#D6ED17FF')\n",
    "plt.bar(data['Godina upisa/diplome'] + sirina/2, data['Ukupno studenata']-data['Ukupno studentkinja'], sirina, label='Studenti',color='#606060')\n",
    "plt.legend()\n",
    "\n",
    "plt.subplot(1,2,2)\n",
    "\n",
    "\n",
    "plt.show()"
   ]
  },
  {
   "cell_type": "markdown",
   "metadata": {},
   "source": [
    "Претходне информације можемо сумирати у један дијаграм поредећи процентуалну заступљеност студенткиња међу уписаним и дипломираним студентима:"
   ]
  },
  {
   "cell_type": "code",
   "execution_count": null,
   "metadata": {
    "scrolled": false
   },
   "outputs": [],
   "source": [
    "plt.bar(data['Godina upisa/diplome']-sirina/2,100*data['Ukupno studentkinja']/data['Ukupno studenata'],sirina,color='#D7C49EFF',label='Upisane studentkinje')\n",
    "plt.bar(data['Godina upisa/diplome']+sirina/2,100*data['Ukupno diplomiranih zene']/data['Ukupno diplomiranih'],sirina,color='#343148FF',label='Diplomirale studentkinje')\n",
    "plt.axhline(y=50,color='grey')\n",
    "plt.ylim([0,100])\n",
    "plt.legend()\n",
    "plt.show()"
   ]
  },
  {
   "cell_type": "markdown",
   "metadata": {},
   "source": [
    "(За избор боја коришћен је овај сајт: https://www.designwizard.com/blog/design-trends/colour-combination)"
   ]
  },
  {
   "cell_type": "markdown",
   "metadata": {},
   "source": [
    "Са употребом **секторских дијаграма** треба бити пажљив (иако су доста доминантни у јавној комуникацији) пре свега зато што људи нису претерано добри у процени и поређењу углова/лукова. Но ако поредите само пар величина или вам је циљ да само демонстрирате да је једна од групација доминантна, питице су изузетне због нашег свакодневног искуства са питама-пицама-тортама :)\n",
    "\n",
    "Стога ћемо у наставку приказати један део ових података који је погодан за секторски дијаграм, као и кад је секторски дијаграм непогодан и потребно је вратити се стубићима или линијама.\n",
    "(боје коришћене у наставку: https://www.designwizard.com/wp-content/uploads/2019/03/colorCombination_49.jpg)"
   ]
  },
  {
   "cell_type": "markdown",
   "metadata": {},
   "source": [
    "Фокусираћемо се на број дипломираних по различитим степенима факултетског образовања који су дати колонама Диплома I,II,III степен."
   ]
  },
  {
   "cell_type": "code",
   "execution_count": null,
   "metadata": {},
   "outputs": [],
   "source": [
    "plt.figure(figsize=(5,5))\n",
    "plt.pie(data[data['Godina upisa/diplome']==2017][['Diploma I stepen fakultet','Diploma II stepen fakultet','Diploma III stepen fakultet']].iloc[0],labels=['Diploma I stepen fakultet','Diploma II stepen fakultet','Diploma III stepen fakultet'],colors=['#FC766A','#B0B8B4','#184A45'])\n",
    "plt.show()"
   ]
  },
  {
   "cell_type": "markdown",
   "metadata": {},
   "source": [
    "Ако је циљ наше визуализације само да демонстрира да је највише дипломаца 2017 године са дипломом првог степена и то више од пола, док су дипломе другог и трећег степена ређе, ово је идеална визуализација. Међутим, ако очекујемо да се са овог дијаграма оцени у ком су односу дипломци првог и другог степена (дал' је ових првих дупло више од других или тако нешто), то је изузетно тешко на овом дијаграму. Слично, визуализација у наставку је један од лошијих избора, иако често присутна:"
   ]
  },
  {
   "cell_type": "code",
   "execution_count": null,
   "metadata": {},
   "outputs": [],
   "source": [
    "plt.figure(figsize=(16,3))\n",
    "for i in range(5):\n",
    "    plt.subplot(1,5,i+1)\n",
    "    plt.pie(data[data['Godina upisa/diplome']==2013+i][['Diploma I stepen fakultet','Diploma II stepen fakultet','Diploma III stepen fakultet']].iloc[0],colors=['#FC766A','#B0B8B4','#184A45'])\n",
    "    plt.title(str(2013+i)+'. godina')\n",
    "plt.legend(['I stepen','II stepen','III stepen'],loc='center left', bbox_to_anchor=(1, 0.5))\n",
    "plt.show()"
   ]
  },
  {
   "cell_type": "markdown",
   "metadata": {},
   "source": [
    "Опет, ако је циљ само проценити да се нешто десило између 2014 и 2015. године и тачни бројеви и односи међу бројевима нас не занимају, ова илустрација служи сврси. Међутим ако гледамо неке податке упоредно, из године у годину, обично је циљ да проверимо да ли постоје неки трендови а са поређење исечака није јендоставно, стога су у наставку два боља начина да се исти подаци представе стубићима и линијама:"
   ]
  },
  {
   "cell_type": "code",
   "execution_count": null,
   "metadata": {
    "scrolled": true
   },
   "outputs": [],
   "source": [
    "plt.figure(figsize=(12,4))\n",
    "plt.subplot(1,2,1)\n",
    "plt.bar(data['Godina upisa/diplome']-sirina,100*data['Diploma I stepen fakultet']/data['Diplomirani studenti fakulteti'],sirina,color='#FC766A', label='I stepen')\n",
    "plt.bar(data['Godina upisa/diplome'],100*data['Diploma II stepen fakultet']/data['Diplomirani studenti fakulteti'],sirina,color='#B0B8B4', label='II stepen')\n",
    "plt.bar(data['Godina upisa/diplome']+sirina,100*data['Diploma III stepen fakultet']/data['Diplomirani studenti fakulteti'],sirina,color='#184A45', label='III stepen')\n",
    "plt.xlabel('Godina')\n",
    "plt.ylabel('Procenat studenata')\n",
    "plt.legend()\n",
    "\n",
    "plt.subplot(1,2,2)\n",
    "plt.plot(data['Godina upisa/diplome'],100*data['Diploma I stepen fakultet']/data['Diplomirani studenti fakulteti'],'o-',color='#FC766A')\n",
    "plt.plot(data['Godina upisa/diplome'],100*data['Diploma II stepen fakultet']/data['Diplomirani studenti fakulteti'],'o-',color='#B0B8B4')\n",
    "plt.plot(data['Godina upisa/diplome'],100*data['Diploma III stepen fakultet']/data['Diplomirani studenti fakulteti'],'o-',color='#184A45')\n",
    "plt.xlabel('Godina')\n",
    "\n",
    "plt.savefig('Diplomirani studenti po nivou studija.pdf',format='pdf')\n",
    "plt.show()"
   ]
  },
  {
   "cell_type": "markdown",
   "metadata": {},
   "source": [
    "Често ћемо желети да лепе дијаграме које правимо и сачувамо, ван радне свеске, за то нам је од користи функција *savefig*, видите локални фолдер у њему се сада налази фајл са направљеним дијаграмима."
   ]
  },
  {
   "cell_type": "markdown",
   "metadata": {},
   "source": [
    "У наставку можемо погледати број студената који су дипломирали на студијама првог и другог степена сумарно:"
   ]
  },
  {
   "cell_type": "code",
   "execution_count": null,
   "metadata": {
    "scrolled": true
   },
   "outputs": [],
   "source": [
    "plt.bar(data['Godina upisa/diplome'],data['Diploma I stepen fakultet']+data['Diploma II stepen fakultet'],sirina,color='grey')\n",
    "#plt.grid(axis='y')\n",
    "#plt.ylim([32000,38000])\n",
    "plt.show()"
   ]
  },
  {
   "cell_type": "markdown",
   "metadata": {},
   "source": [
    "Опрезно са скраћивањем у осе, размишљајте о читаоцу ваше визуализације: https://ba.n1info.com/Picture/275329/png/pisarezz.png"
   ]
  },
  {
   "cell_type": "markdown",
   "metadata": {},
   "source": [
    "Овим смо се подсетили и унапредили знање о опцијама које имамо на располагању када податке визуализујемо уз помоћ линијских, стубичастих и секторских дијаграма. У наставку ћемо се бавити већим сетовима података, где ће често први део анализе бити у чишћењу и издвајању интересантних делова из табеле, тј. конструисање малог сета података који ће затим сличним начинима бити представљан на дијаграмима. Поред тога, позабавићемо се хистограмима, тачкастим дијаграмима и њиховом интерактивном верзијом зарад боље прегледности појединачних и целокупних података."
   ]
  },
  {
   "cell_type": "markdown",
   "metadata": {},
   "source": [
    "#### За даље читање:\n",
    "https://davidmathlogic.com/colorblind/#%23D81B60-%231E88E5-%23FFC107-%23004D40\n",
    "\n",
    "https://www.knowablemagazine.org/article/mind/2019/science-data-visualization"
   ]
  },
  {
   "cell_type": "code",
   "execution_count": null,
   "metadata": {},
   "outputs": [],
   "source": []
  }
 ],
 "metadata": {
  "kernelspec": {
   "display_name": "Python 3",
   "language": "python",
   "name": "python3"
  },
  "language_info": {
   "codemirror_mode": {
    "name": "ipython",
    "version": 3
   },
   "file_extension": ".py",
   "mimetype": "text/x-python",
   "name": "python",
   "nbconvert_exporter": "python",
   "pygments_lexer": "ipython3",
   "version": "3.6.5"
  }
 },
 "nbformat": 4,
 "nbformat_minor": 2
}
