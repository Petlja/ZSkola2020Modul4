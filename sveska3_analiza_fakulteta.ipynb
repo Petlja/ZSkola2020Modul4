{
 "cells": [
  {
   "cell_type": "markdown",
   "metadata": {},
   "source": [
    "# Студенти основних студија у Републици Србији"
   ]
  },
  {
   "cell_type": "markdown",
   "metadata": {},
   "source": [
    "У наставку ћемо истражити интересовања студената кроз отворене податке Министарства за просвету, науку и технолошки развој: http://opendata.mpn.gov.rs/index.php?ucenici_studenti=visoko. Прерађен фајл у .csv формату налази се у локалном фолдеру, а у наставку ћемо се фокусирати на: \n",
    "- интересовања студената по областима, факултетима и универзитетима, која ћемо представљати стубичастим дијаграмима\n",
    "- ефикасност високог образовања - истражујући бројеве студената на завршним годинама, као и студента који дипломирају у односу на потражњу и број уписаних на високошколску институцију\n",
    "- интерактивне визуелизације уз пакет plotly.express"
   ]
  },
  {
   "cell_type": "code",
   "execution_count": null,
   "metadata": {},
   "outputs": [],
   "source": [
    "import numpy as np\n",
    "import pandas as pd\n",
    "import matplotlib.pyplot as plt\n",
    "import seaborn as sns\n",
    "import plotly.express as px\n",
    "import cyrtranslit"
   ]
  },
  {
   "cell_type": "markdown",
   "metadata": {},
   "source": [
    "Учитали смо пар нових библиотека:\n",
    "- seaborn и plotly.express су као и matplotlib.pyplot библиотеке за визуализацију података, више детаља о опцијама које оне омогућавају можете видети https://seaborn.pydata.org/examples/index.html и https://plot.ly/python/plotly-express/#plotly-express\n",
    "- cyrtranslit је посебно згодна библиотека када се бавите подацима који долазе из јавног сектора пошто нам она омогућава да једноставно препишемо ћирилицу у латиницу што нам значајно убрзава куцање"
   ]
  },
  {
   "cell_type": "markdown",
   "metadata": {},
   "source": [
    "Крећемо као и до сада учитавањем података које ћемо у наставку анализирати:"
   ]
  },
  {
   "cell_type": "code",
   "execution_count": null,
   "metadata": {
    "scrolled": false
   },
   "outputs": [],
   "source": [
    "studenti = pd.read_csv('podaci/studenti_osnovnih_studija.csv')\n",
    "studenti.head(2)"
   ]
  },
  {
   "cell_type": "markdown",
   "metadata": {},
   "source": [
    "Видимо да нам је на располагању једна изузетно велика табела (са преко 50 колона), али и да су све колоне које садрже текстуалне податке ћириличне. Генерално то није проблем, међутим ако хоћемо да издвајамо делове табеле зависно од конкретних вредности ове колоне то ће значити да у ћелијама са кодом ове свеске морамо да се пребацујемо са ћириличног на латинично писмо што може креирати и неке грешке, па је згодно да то решимо на почетку."
   ]
  },
  {
   "cell_type": "markdown",
   "metadata": {},
   "source": [
    "Пар колона које ћемо преписати ћирилично се налазе у наставку. Библиотека *cyrtranslit* између осталог садржи и функцију *to_latin* (и њену инверзну *to_cyrillic*), која унети текст пребацује у латинично писмо. Потребно је само поред текста проследити и 'sr' којим се функцији ставља до знања да се ради о српском језику зато што функције раде и за руски и пар других језика."
   ]
  },
  {
   "cell_type": "code",
   "execution_count": null,
   "metadata": {},
   "outputs": [],
   "source": [
    "studenti['Univerzitet'] = [cyrtranslit.to_latin(text,'sr') for text in list(studenti['Univerzitet'])]\n",
    "studenti['Naziv ustanove'] = [cyrtranslit.to_latin(text,'sr') for text in list(studenti['Naziv ustanove'])]\n",
    "studenti['Naziv programa'] = [cyrtranslit.to_latin(text,'sr') for text in list(studenti['Naziv programa'])]\n",
    "studenti['Polje'] = [cyrtranslit.to_latin(text,'sr') for text in list(studenti['Polje'])]\n",
    "studenti['Zvanje'] = [cyrtranslit.to_latin(text,'sr') for text in list(studenti['Zvanje'])]\n",
    "studenti['Nivo'] = [cyrtranslit.to_latin(text,'sr') for text in list(studenti['Nivo'])]"
   ]
  },
  {
   "cell_type": "code",
   "execution_count": null,
   "metadata": {
    "scrolled": false
   },
   "outputs": [],
   "source": [
    "studenti.head(2)"
   ]
  },
  {
   "cell_type": "markdown",
   "metadata": {},
   "source": [
    "Колону Тип установе нисмо преименовали из следећег разлога, хајде да видимо који све типови установа постоје:"
   ]
  },
  {
   "cell_type": "code",
   "execution_count": null,
   "metadata": {},
   "outputs": [],
   "source": [
    "studenti['Tip ustanove'].unique()"
   ]
  },
  {
   "cell_type": "markdown",
   "metadata": {},
   "source": [
    "Како је у питању само једна вредност, тј сви факултети који су део овог сета података су Државни факултети, онда нам ова колона није превише корисна и можемо је избацити из посматраног сета података на следећи начин:"
   ]
  },
  {
   "cell_type": "code",
   "execution_count": null,
   "metadata": {},
   "outputs": [],
   "source": [
    "studenti = studenti.drop(columns=['Tip ustanove'])"
   ]
  },
  {
   "cell_type": "markdown",
   "metadata": {},
   "source": [
    "Преостале колоне ћемо погледати на следећи начин као и до сада:"
   ]
  },
  {
   "cell_type": "code",
   "execution_count": null,
   "metadata": {
    "scrolled": false
   },
   "outputs": [],
   "source": [
    "studenti.info()"
   ]
  },
  {
   "cell_type": "markdown",
   "metadata": {},
   "source": [
    "\n",
    "Детаљнијим прегледом типова колона података, видимо да у пуно колона немамо баш све информације о бројевима студената, па ћемо пробати да групишемо и агрегирамо неке од доступних података не би ли тако стекли неку слику о високошколском образовању.\n",
    "\n",
    "Као аргументе функције груписања, искористићемо колоне - назив установе, универзитет коме припада, ниво студија, дужину трајања програма, поље и власништво - док ћемо затим све бројчане колоне у оквиру ових група сумирати. То значи да ако неки факултет има више различитих смерова трогодишњих основних студија, нећемо бринути појединачно о студентима сваког смера, већ само о укупном броју студената по годинама:"
   ]
  },
  {
   "cell_type": "code",
   "execution_count": null,
   "metadata": {
    "scrolled": false
   },
   "outputs": [],
   "source": [
    "studenti_agregirano = pd.DataFrame(studenti.groupby(['Naziv ustanove','Univerzitet','Nivo','Dužina trajanja programa (u god)','Polje_skraceno','Vlasnistvo'])[['Akreditaciona kvota','Broj studenata','Broj prijavljenih kandidata','Broj svršenih studenata tokom prethodne školske godine','Studenti prva godina','Studenti druga godina','Studenti treća godina','Studenti četvrta godina','Studenti peta godina','Studenti šesta godina','Broj budžetskih studenata', 'Broj samofinansirajućih studenata',\n",
    "       'Broj stranih studenata','Broj studenata na zavrsnoj godini']].sum())\n",
    "studenti_agregirano.head(4)"
   ]
  },
  {
   "cell_type": "markdown",
   "metadata": {},
   "source": [
    "Већ у прва 4 реда ове табеле, видимо да подаци које имамо на располагању нису потпуни, али анализираћемо оно што имамо да видимо да ли се ту крије нешто интересантно (о непотпуности, видети 4. ред по коме делује да ИМТ смер академије уметности нема ни једног студента иако их је било пријављено чак 20).\n",
    "\n",
    "Како табела која настаје груписањем за индексе има све колоне по којима смо груписали, можемо ресетовати индекс пошто нам таква врста индексирања није неопходна тренутно:"
   ]
  },
  {
   "cell_type": "code",
   "execution_count": null,
   "metadata": {},
   "outputs": [],
   "source": [
    "studenti_agregirano = studenti_agregirano.reset_index()\n",
    "studenti_agregirano.head(2)"
   ]
  },
  {
   "cell_type": "markdown",
   "metadata": {},
   "source": [
    "Овим смо велику табелу од 866 редова и 52 колоне са непотпуним уносима, свели на мало мању табелу у којој смо спојили више различитих смерова и фокусирали се само на пар најважнијих колона. Очигледно су се неки факултети понављали више пута, те задатак за знатижељне може бити бројање смерова и факултетима по универзитету (биће то мало подсећање на груписање и бројање из претходних радних свесака)."
   ]
  },
  {
   "cell_type": "code",
   "execution_count": null,
   "metadata": {},
   "outputs": [],
   "source": []
  },
  {
   "cell_type": "markdown",
   "metadata": {},
   "source": [
    "Новонасталу табелу на којој ћемо радити, можемо истражити и уз помоћ функције *describe* која нам за све бројчане колоне даје и неке додатне информације:"
   ]
  },
  {
   "cell_type": "code",
   "execution_count": null,
   "metadata": {},
   "outputs": [],
   "source": [
    "studenti_agregirano.describe()"
   ]
  },
  {
   "cell_type": "markdown",
   "metadata": {},
   "source": [
    "Из табеле коју смо добили уз помоћ груписања можете видети којих 10 факултета имају највише студената, допуните линију кода у наставку:"
   ]
  },
  {
   "cell_type": "code",
   "execution_count": null,
   "metadata": {},
   "outputs": [],
   "source": [
    "studenti_agregirano.groupby()['Broj studenata'].sum().sort_values()[:10]"
   ]
  },
  {
   "cell_type": "markdown",
   "metadata": {},
   "source": [
    "Слично, истражите којих 10 су најтраженији:"
   ]
  },
  {
   "cell_type": "code",
   "execution_count": null,
   "metadata": {},
   "outputs": [],
   "source": [
    "#место за ваш код"
   ]
  },
  {
   "cell_type": "markdown",
   "metadata": {},
   "source": [
    "Јел вас популарност неких факултета иненадила? Где се ваш факултет налази по потражњи и(ли) укупном броју студената?"
   ]
  },
  {
   "cell_type": "markdown",
   "metadata": {},
   "source": [
    "За разумевање популарности факултета, није довољно да гледамо само укупан број пријављених, већ је згодно тај број ставити у контекст, зато што није исто да ли се 150 студената пријављује на факултет који прима 150 или 15 студената. Стога ћемо увести и колону која нам говори о томе колико је пријављених у односу на акредитован број места на факултету:"
   ]
  },
  {
   "cell_type": "code",
   "execution_count": null,
   "metadata": {},
   "outputs": [],
   "source": [
    "studenti_agregirano['Potraznja'] = round(studenti_agregirano['Broj prijavljenih kandidata']/studenti_agregirano['Akreditaciona kvota'],2)"
   ]
  },
  {
   "cell_type": "markdown",
   "metadata": {},
   "source": [
    "Треба имати на уму да подаци често нису потпуни, па је можда акредитациона квота негде недостајућа (0) па ће ово дељење наићи на проблем:"
   ]
  },
  {
   "cell_type": "code",
   "execution_count": null,
   "metadata": {},
   "outputs": [],
   "source": [
    "len(studenti_agregirano[studenti_agregirano['Akreditaciona kvota']==0])"
   ]
  },
  {
   "cell_type": "markdown",
   "metadata": {},
   "source": [
    "Чак 20 разматраних факултета има у пољу акредитованих студената 0! У тим случајевима, немамо адекватну процењену потражњу, погледајмо детаљније те факултете:"
   ]
  },
  {
   "cell_type": "code",
   "execution_count": null,
   "metadata": {
    "scrolled": true
   },
   "outputs": [],
   "source": [
    "studenti_agregirano[studenti_agregirano['Akreditaciona kvota']==0]"
   ]
  },
  {
   "cell_type": "markdown",
   "metadata": {},
   "source": [
    "Испоставља се да су факултети без унете Акредитационе квоте такође и факултети који немају унете податке о пријављеним студентима, те је израчунати однос 'NaN'. Погледајмо сад који су то факултети са највећом потражњом по овом индексу:"
   ]
  },
  {
   "cell_type": "code",
   "execution_count": null,
   "metadata": {},
   "outputs": [],
   "source": [
    "studenti_agregirano.sort_values(by='Potraznja',ascending=False)[['Naziv ustanove','Univerzitet','Potraznja']][:10]"
   ]
  },
  {
   "cell_type": "markdown",
   "metadata": {},
   "source": [
    "По овом коефицијенту, борба за место на факултету је највиша на факултету драмских уметности (где се преко 8 студената бори за једно место!), мада је Математички факултет, УБ задржао своју високу позицију и када се подаци сагледају у контексту. Интересантно је што је велики број друштвених факултета који се налазе на претходној топ 10 листи, нестао а њихово место су заузели медицински факултети. Представите ове податке уз помоћ стубичастог дијаграма:"
   ]
  },
  {
   "cell_type": "code",
   "execution_count": null,
   "metadata": {},
   "outputs": [],
   "source": [
    "#место за ваш код"
   ]
  },
  {
   "cell_type": "markdown",
   "metadata": {},
   "source": [
    "Са друге стране, поред потражње, занима нас и излазност студената са факултета, то јест, колико студената заврши уписани факултет. Како немамо број студената који су уписали годину пре 3, 4 или 5 година, да адекватно проценимо који проценат студената је дипломирао, погледаћемо односе између тренутних студената 1. године и студената који су ове године завршили:"
   ]
  },
  {
   "cell_type": "code",
   "execution_count": null,
   "metadata": {},
   "outputs": [],
   "source": [
    "studenti_agregirano['Izlaznost'] = studenti_agregirano['Studenti prva godina']/studenti_agregirano['Broj svršenih studenata tokom prethodne školske godine']"
   ]
  },
  {
   "cell_type": "markdown",
   "metadata": {},
   "source": [
    "Опет морамо проверити колико факултета није унело информације о дипломираним студентима као и како су одговарајући односи израчунати у том случају (тј. који је исход недозвољеног дељења са 0)."
   ]
  },
  {
   "cell_type": "code",
   "execution_count": null,
   "metadata": {},
   "outputs": [],
   "source": [
    "len(studenti_agregirano[studenti_agregirano['Broj svršenih studenata tokom prethodne školske godine']==0])"
   ]
  },
  {
   "cell_type": "code",
   "execution_count": null,
   "metadata": {
    "scrolled": true
   },
   "outputs": [],
   "source": [
    "studenti_agregirano[studenti_agregirano['Broj svršenih studenata tokom prethodne školske godine']==0]"
   ]
  },
  {
   "cell_type": "code",
   "execution_count": null,
   "metadata": {},
   "outputs": [],
   "source": [
    "#кометар на инф"
   ]
  },
  {
   "cell_type": "code",
   "execution_count": null,
   "metadata": {},
   "outputs": [],
   "source": [
    "studenti_agregirano[studenti_agregirano.Izlaznost!=np.inf].sort_values(by='Izlaznost',ascending=False)[['Naziv ustanove','Univerzitet','Polje_skraceno','Izlaznost']][:10]"
   ]
  },
  {
   "cell_type": "markdown",
   "metadata": {},
   "source": [
    "67 пута више студената је уписало Природно-математички факултет у Новом Саду у односу на број оних који су завршили исти факултет! Погледајмо детаљније тај факултет да видимо да ли је по среди опет неки проблем непотпуне документације:"
   ]
  },
  {
   "cell_type": "code",
   "execution_count": null,
   "metadata": {},
   "outputs": [],
   "source": [
    "studenti_agregirano[studenti_agregirano['Naziv ustanove']=='Prirodno-matematički fakultet']"
   ]
  },
  {
   "cell_type": "markdown",
   "metadata": {},
   "source": [
    "Видимо да је у питању само један од нива студија који Природно математички факултет нуди и могуће је да су резултати такви зато што је у питњу нови смер, док су односи између уписаних и дипломираних студената доста бољи за остале смерове."
   ]
  },
  {
   "cell_type": "markdown",
   "metadata": {},
   "source": [
    "Како је најмање факултета који нису унели ни једног од студената, још један начин да приступимо анализи потражње и излазности са факултета је да уведемо колону процечног броја студената по години, и да њу искористимо за контекстуализовање потражње и излазности:"
   ]
  },
  {
   "cell_type": "code",
   "execution_count": null,
   "metadata": {},
   "outputs": [],
   "source": [
    "len(studenti_agregirano[studenti_agregirano['Broj studenata']==0])"
   ]
  },
  {
   "cell_type": "code",
   "execution_count": null,
   "metadata": {},
   "outputs": [],
   "source": [
    "studenti_agregirano['Prosecan br studenata'] = studenti_agregirano['Broj studenata']/studenti_agregirano['Dužina trajanja programa (u god)']"
   ]
  },
  {
   "cell_type": "markdown",
   "metadata": {},
   "source": [
    "Друга верзија нормиране потражње и излазности:"
   ]
  },
  {
   "cell_type": "code",
   "execution_count": null,
   "metadata": {},
   "outputs": [],
   "source": [
    "studenti_agregirano['Potraznja 2'] = studenti_agregirano['Broj prijavljenih kandidata']/studenti_agregirano['Prosecan br studenata']\n",
    "studenti_agregirano['Izlaznost 2'] = studenti_agregirano['Broj svršenih studenata tokom prethodne školske godine']/studenti_agregirano['Prosecan br studenata']"
   ]
  },
  {
   "cell_type": "markdown",
   "metadata": {},
   "source": [
    "Пре него што наставимо са визуелним истраживањем ових података, увешћемо још једну колону у којој ћемо пратити проценат самофинансирајућих студената."
   ]
  },
  {
   "cell_type": "code",
   "execution_count": null,
   "metadata": {},
   "outputs": [],
   "source": [
    "studenti_agregirano['Procenat samofinansirajucih']=np.round(100*studenti_agregirano['Broj samofinansirajućih studenata']/studenti_agregirano['Broj studenata'],2)"
   ]
  },
  {
   "cell_type": "markdown",
   "metadata": {},
   "source": [
    "### Тачкасти дијаграми"
   ]
  },
  {
   "cell_type": "markdown",
   "metadata": {},
   "source": [
    "Када имамо две варијабле и интересује нас да ли су оне у некој вези, једноставан начин да то тестирамо или само видимо како подаци изгледају је цртање тачкастих дијаграма. Већ кроз функцију *plot* је то могуће тиме што одаберемо да се линја не повезује, али на располагању нам се налази и функција *scatter*, која има још неке додатне опције.\n",
    "\n",
    "(још један аргумент за цртање тачкастих дијаграма налази се овде: https://en.wikipedia.org/wiki/Anscombe%27s_quartet, а за даљу забаву препоручујем http://guessthecorrelation.com/)"
   ]
  },
  {
   "cell_type": "markdown",
   "metadata": {},
   "source": [
    "Погледајмо да ли постоји веза између броја студената на факултету и броја дипломираних студената на истом факултету, погледаћемо то прво уз помоћ *plot* функције, без повезивања тачака:"
   ]
  },
  {
   "cell_type": "code",
   "execution_count": null,
   "metadata": {},
   "outputs": [],
   "source": [
    "plt.plot(studenti_agregirano['Prosecan br studenata'],studenti_agregirano['Broj svršenih studenata tokom prethodne školske godine'],'o')\n",
    "plt.show()"
   ]
  },
  {
   "cell_type": "markdown",
   "metadata": {},
   "source": [
    "Исти подаци уз помоћ функције scatter изгледају:"
   ]
  },
  {
   "cell_type": "code",
   "execution_count": null,
   "metadata": {},
   "outputs": [],
   "source": [
    "plt.scatter(studenti_agregirano['Prosecan br studenata'],studenti_agregirano['Broj svršenih studenata tokom prethodne školske godine'])\n",
    "plt.show()"
   ]
  },
  {
   "cell_type": "markdown",
   "metadata": {},
   "source": [
    "Функцији *scatter* није потребно наговесетити да не треба да повеже податке, а аргументом marker могуће је мењати облик тачкица. На графицима изнад, представљен је сваки од студијских програма на факултетима које анализирамо, и видимо да постоји нека веза између одабраних података. Међутим, ова веза је очекивана, на већим факултетима има више студената који би могли да заврше студије. Стога је обично битно обратити пажњу да се ове очекиване везе међу варијаблама заобиђу. На пример, овде уместо укупног броја студената који су завршили, можемо гледати колону излазност тј.однос између студената који су уписали и који су завршили факултет:"
   ]
  },
  {
   "cell_type": "code",
   "execution_count": null,
   "metadata": {},
   "outputs": [],
   "source": [
    "plt.scatter(studenti_agregirano['Prosecan br studenata'],studenti_agregirano['Izlaznost'],s=0.1*studenti_agregirano['Broj svršenih studenata tokom prethodne školske godine'])\n",
    "plt.ylim([-0.2,6])\n",
    "plt.show()"
   ]
  },
  {
   "cell_type": "markdown",
   "metadata": {},
   "source": [
    "Овде је већ теже рећи да постоји јасан тренд (искористили смо још једну опцију функције *scatter*, величина кружића сада одговара броју студената који су завршили факултет), мада видимо да већи факултети (десно на х оси, тј. факултети са великим бројем студената на години) имају практично константну излазност, тек сваки други уписани студент заврши. Са друге стране међу мањим факултетима имамо знатно већи распон - велики број њих има излазност већу од 1 (дакле не заврше сви уписани), али има и оних који имају излазност мању од 1, тј. више студената је у току претходне године завршило факултет него што га је уписало. То може бити последица чињенице да су неки факултети изгубили на популарности у међувремену, или да се пуно студената задржало на последњим годинама па су притиснути роковима завршили."
   ]
  },
  {
   "cell_type": "markdown",
   "metadata": {},
   "source": [
    "Следеће питање је да ли постоји веза између привлачности факултета и излазности? Да ли факултети који су најпожељнији су у исто време и изузетно ефикасни (обзиром да имају највише простора да направе селекцију и одаберу најбоље студенте, а и можда изузетна студентска жеља за тим факултетима долази помаже да се брже факултет заврши)? \n",
    "Одговор на ово питање можемо потражити укрштањем података о излазности и привлачности различитих факултета:"
   ]
  },
  {
   "cell_type": "markdown",
   "metadata": {},
   "source": [
    "Слике у наставку приказују две верзије тачкастог дијаграма, једну из библиотеке *matplotlib* и библиотеке *seaborn*. У оба случаја, искористили смо опције да поред х и у координата, кружиће разликујемо и по њиховој величини која одговара просечном броју студената на факултету."
   ]
  },
  {
   "cell_type": "code",
   "execution_count": null,
   "metadata": {},
   "outputs": [],
   "source": [
    "plt.figure(figsize=(10,4))\n",
    "plt.subplot(1,2,1)\n",
    "plt.scatter(studenti_agregirano['Potraznja'],studenti_agregirano['Izlaznost'],s=0.2*studenti_agregirano['Prosecan br studenata'],alpha=0.5)\n",
    "plt.ylim([0.1,10])\n",
    "plt.xlabel('Potražnja \\n Koliko studenata se takmiči za 1 mesto na fakultetu?')\n",
    "plt.ylabel('Izlaznost \\n Koliko puta više studenata upiše nego što završi fakultet?' )\n",
    "\n",
    "plt.subplot(1,2,2)\n",
    "sns.scatterplot(studenti_agregirano['Potraznja'],studenti_agregirano['Izlaznost'],hue=studenti_agregirano['Polje_skraceno'],s=0.2*studenti_agregirano['Prosecan br studenata'],alpha=0.5)\n",
    "plt.ylim([0.1,10])\n",
    "plt.legend(bbox_to_anchor=(1,1))\n",
    "plt.show()"
   ]
  },
  {
   "cell_type": "markdown",
   "metadata": {},
   "source": [
    "Два графика изнад приказују исте податке - свака тачкица је један факултет, њена х и у координата су Потражња и Излазност како смо их раније дефинисали, док је величина круга укупан број студената. Приказали смо исту информацију на два начина само зарад поређења тачкастих дијаграма из две различите библиотеке. Иако смо дозволили транспарентност параметром *alpha* и обојили тачкице по различитим пољима, чак и скратили распон Излазности (сетимо се, вредност ове колоне иде и до 67!) да бисмо боље сагледали различите факултете посматрање ових тачкица нам не помаже да једноставно сазнамо који су то факултети код којих је потражња велика, а ипак тек сваки нпр. сваки 5. студент успе да их заврши.\n",
    "\n",
    "Оно што би нам значило је опција да директно очитавамо који факултети су у питању са графика. Када има овако пуно тачака, лабеловање тачака такође није опција, те је спас у интерактивним графицима у којима ћемо преласком мишем преко тачке од интереса долазити до додатних информација."
   ]
  },
  {
   "cell_type": "code",
   "execution_count": null,
   "metadata": {},
   "outputs": [],
   "source": [
    "fig = px.scatter(studenti_agregirano.dropna(), x=\"Potraznja\", y=\"Izlaznost\", color=\"Polje_skraceno\",\n",
    "                 size='Broj studenata', \n",
    "                 hover_name=\"Naziv ustanove\"               \n",
    "                 , range_x=[-0.5,5]\n",
    "                 , range_y=[0.1,10]\n",
    "                )\n",
    "fig.show()"
   ]
  },
  {
   "cell_type": "markdown",
   "metadata": {},
   "source": [
    "Поновили смо све остале параметре графика као у статичној верзији да бисмо што лакше уочили промене у новом окружењу. Сада преласком преко било ког кужића сазнајемо о ком факултету се ради, колико студената укупно има, која је потражња, а која излатзност.\n",
    "Интересантно је да је најтраженији факултет по броју студената који аплицирају на једно место - Факултет драмских уметности (доле десно), такође и факултет на коме је излазност доста блиска јединици, што је доста похвално, али на жалост није тренд. Већ други по потражњи - Математички факултет - одликује се чињеницом да тек сваки 5 студент заврши! Можемо додатно сузити опсеге х и у оса, а можемо и обојити тачкице по универзитетима уместо по пољима да видимо да ли нам је тако ситуација јаснија."
   ]
  },
  {
   "cell_type": "code",
   "execution_count": null,
   "metadata": {},
   "outputs": [],
   "source": [
    "fig = px.scatter(studenti_agregirano, x=\"Potraznja\", y=\"Izlaznost\", color=\"Univerzitet\",\n",
    "                 size='Broj studenata', \n",
    "                 hover_name=\"Naziv ustanove\"\n",
    "                 , range_x=[-0.5,4]\n",
    "                 , range_y=[0.3,8]\n",
    "                )\n",
    "fig.show()"
   ]
  },
  {
   "cell_type": "markdown",
   "metadata": {},
   "source": [
    "Интересантно је да постоје факултети код којих је потражња мала, не долази до испуњавања акредитованих места, што би значило да су још већи ресурси на располагању студентима који се на њих уписују (више времена професора, бољи однос између броја студената и наставника и сл.), али се на њима и даље дешава да много мање студената завршава него што уписује (нпр факултети у левом горњем углу). Мала потражња за оваквим факултетима је можда и последица информација које се шире међу студентима о тежини ових факултета."
   ]
  },
  {
   "cell_type": "markdown",
   "metadata": {},
   "source": [
    "Наредно питање које се поставља тиче се опет факултета са малом излазношћу, шта се дешава са студентима који не дипломирају? Да ли ти студенти одустају од студија на вишим годинама, па је број студената све мањи и мањи до дипломирања или је малом броју диплома узрок то што се студенти \"заглаве\" на некој од година студирања. За ову информацију можемо погледати однос између броја студената на завршној и првој години студија."
   ]
  },
  {
   "cell_type": "code",
   "execution_count": null,
   "metadata": {},
   "outputs": [],
   "source": [
    "studenti_agregirano['Zagusenje'] = studenti_agregirano['Broj studenata na zavrsnoj godini']/studenti_agregirano['Studenti prva godina']"
   ]
  },
  {
   "cell_type": "code",
   "execution_count": null,
   "metadata": {},
   "outputs": [],
   "source": [
    "fig = px.scatter(studenti_agregirano, x=\"Zagusenje\", y=\"Izlaznost\", color=\"Univerzitet\",\n",
    "                 size='Broj studenata', \n",
    "                 hover_name=\"Naziv ustanove\"\n",
    "                 , range_x=[-0.5,4.5]\n",
    "                 , range_y=[0.3,8]\n",
    "                )\n",
    "fig.show()"
   ]
  },
  {
   "cell_type": "markdown",
   "metadata": {},
   "source": [
    "Интересантно је да нису факултети са најлошијом стопом излазности они на којима је загушење студената највише. Код њих је број студената на завршној години студија мањи него на првој, што говори о томе да се студенти вероватно самоелиминишу некада раније. Са друге стране, пуно је факултета на којима тек сваки други или трећи студент прве године дипломира, али их је на завршној години и до 2,3, или 4 пута више него на првој години. Овде се поставља и питање капацитета факултета да се избори са толиким бројем студената. На следећем графику можемо проверити да ли су факултети са 3-4 пута више студената на завршној години уписали мање студената него што је акредитовано, те можда имају капацитета да се изборе, или су напротив, на завршној години студија дошли у ситуацију да имају многоструко више студената него што могу да поднесу."
   ]
  },
  {
   "cell_type": "code",
   "execution_count": null,
   "metadata": {},
   "outputs": [],
   "source": [
    "studenti_agregirano['Popunjenost mesta']=studenti_agregirano['Studenti prva godina']/studenti_agregirano['Akreditaciona kvota']"
   ]
  },
  {
   "cell_type": "code",
   "execution_count": null,
   "metadata": {},
   "outputs": [],
   "source": [
    "fig = px.scatter(studenti_agregirano, x=\"Popunjenost mesta\", y=\"Zagusenje\", color=\"Univerzitet\",\n",
    "                 size='Broj studenata', \n",
    "                 hover_name=\"Naziv ustanove\"\n",
    "                 , range_x=[-0.5,4.5]\n",
    "                 , range_y=[0.3,8]\n",
    "                )\n",
    "fig.show()"
   ]
  },
  {
   "cell_type": "markdown",
   "metadata": {
    "scrolled": true
   },
   "source": [
    "На овом графику је интересантно истражити све тачкице код којих је попуњеност места у близини јединице (значи да су они своју квоту испунили или надмашили!), а код којих је загушење веће од 1. Један такав пример је Економски факултет (у близини координата 1.5,2.5), на који се упише више од акредитоване квоте, али и поред тога на завршној години студија има и преко два пута више студената него што их је било на првој години. "
   ]
  },
  {
   "cell_type": "code",
   "execution_count": null,
   "metadata": {},
   "outputs": [],
   "source": [
    "studenti_agregirano['Premasenje kvote']=studenti_agregirano['Broj studenata na zavrsnoj godini']/studenti_agregirano['Akreditaciona kvota']"
   ]
  },
  {
   "cell_type": "code",
   "execution_count": null,
   "metadata": {},
   "outputs": [],
   "source": [
    "fig = px.scatter(studenti_agregirano, x=\"Premasenje kvote\", y=\"Izlaznost\", color=\"Univerzitet\",\n",
    "                 size='Broj studenata', \n",
    "                 hover_name=\"Naziv ustanove\"\n",
    "                 , range_x=[-0.5,4.5]\n",
    "                 , range_y=[0.3,5]\n",
    "                )\n",
    "fig.show()"
   ]
  },
  {
   "cell_type": "markdown",
   "metadata": {},
   "source": [
    "Изгледа да се за значајан део факултета лоша излазност (тј. велики однос између броја уписаних и дипломираних приказан на у оси) може објаснити преоптерећеношћу факултета, односно премашењем акредитационе квоте (приказано на х оси као однос броја студената на завршној години и броја акредитованих места)."
   ]
  },
  {
   "cell_type": "code",
   "execution_count": null,
   "metadata": {},
   "outputs": [],
   "source": []
  },
  {
   "cell_type": "markdown",
   "metadata": {},
   "source": [
    "Издвојте факултете за којима влада велика потражња, али је излазност лоша:"
   ]
  },
  {
   "cell_type": "code",
   "execution_count": null,
   "metadata": {
    "scrolled": true
   },
   "outputs": [],
   "source": []
  },
  {
   "cell_type": "markdown",
   "metadata": {},
   "source": [
    "**Задатак**\n",
    "\n",
    "Да ли факултети за којима влада велика потражња уписују више студената па тиме удео самофинансирајућих студената расте? Да ли је удео самофинансирајућих студената у вези са већим загушењем на факултету (па студенти нужно прелазе на самофинансирање) или факултети са више самофинансирајућих студената имају бољу излазност?\n",
    "Потражите одговоре на ова питања одговарајућим тачкастим дијаграмом, фокусирајте се само на факултете код којих је власништво државно.\n",
    "Нацртајте следеће дијаграме:\n",
    "- стубичасти дијаграм за 10 факултета са највећим односом између самофинансирајућих и буџетских студената\n",
    "- пар различитих тачкастих дијаграма на којима ће једна оса бити новоуведена колона (однос самофиснансирајућих и буџетских студената), а за другу осу ћете користи неке од претходно израчунатих колона попут потражње за факултетом, пролазности и загушења"
   ]
  },
  {
   "cell_type": "code",
   "execution_count": null,
   "metadata": {
    "scrolled": false
   },
   "outputs": [],
   "source": []
  },
  {
   "cell_type": "code",
   "execution_count": null,
   "metadata": {},
   "outputs": [],
   "source": []
  }
 ],
 "metadata": {
  "kernelspec": {
   "display_name": "Python 3",
   "language": "python",
   "name": "python3"
  },
  "language_info": {
   "codemirror_mode": {
    "name": "ipython",
    "version": 3
   },
   "file_extension": ".py",
   "mimetype": "text/x-python",
   "name": "python",
   "nbconvert_exporter": "python",
   "pygments_lexer": "ipython3",
   "version": "3.6.5"
  }
 },
 "nbformat": 4,
 "nbformat_minor": 2
}
