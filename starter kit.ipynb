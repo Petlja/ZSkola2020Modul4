{
 "cells": [
  {
   "cell_type": "markdown",
   "metadata": {},
   "source": [
    "Kako novi početak može biti stresan, pogotovo kad kreće od praznog lista papira, evo strukture koja može da vas podseća na različite funkcije dostupne za analizu i vizuelizaciju podataka."
   ]
  },
  {
   "cell_type": "code",
   "execution_count": 15,
   "metadata": {},
   "outputs": [],
   "source": [
    "# importovanje neophodnih biblioteka, npr:\n",
    "# import pandas as pd # odlican help i info o svim funkcijama: https://pandas.pydata.org/\n",
    "# import matplotlib.pyplot as plt # https://matplotlib.org/"
   ]
  },
  {
   "cell_type": "markdown",
   "metadata": {},
   "source": [
    "***Pandas***"
   ]
  },
  {
   "cell_type": "code",
   "execution_count": 6,
   "metadata": {},
   "outputs": [],
   "source": [
    "# učitavanje podataka, npr:\n",
    "#podaci = pd.read_csv('podaci/MPNTRvisokozaposleni_gender.csv')\n",
    "#podaci = pd.read_excel() #postoji i dodatni argument: sheet = 1 (kada ce preuzeti 2 po redu sheet iz excela), ili sheet = 'ime'"
   ]
  },
  {
   "cell_type": "code",
   "execution_count": null,
   "metadata": {},
   "outputs": [],
   "source": [
    "# istraživanje sadržaja učitane tabele, npr:\n",
    "# podaci.head() # prvih 5 redova ili ako pozovete podaci.head(n), n prvi redova\n",
    "# podaci.columns # lista sa imenima kolona\n",
    "# podaci.info() # informacije o tipu podataka i broju unosa po kolonama\n",
    "# podaci.describe() # osnovna statistika o kolonama brojcanog tipa\n",
    "# podaci.shape # dimenzije tabele - vraca broj redova, broj kolona\n",
    "# podaci.tail() # poslednjih 5 redova, ili poslednjih n redova, ako stavite n u zagrade"
   ]
  },
  {
   "cell_type": "code",
   "execution_count": null,
   "metadata": {},
   "outputs": [],
   "source": [
    "# karakteristike neke konkretne kolone\n",
    "# podaci['Ime kolone'].mean() # srednja vrednost elemenata u koloni\n",
    "# podaci['Ime kolone'].std() # standardna devijacja\n",
    "# podaci['Ime kolone'].min() # minimalna vrednost\n",
    "# podaci['Ime kolone'].max() # maksimalna vrednost\n",
    "# podaci['Ime kolone'].sum() # zbir elemenata u koloni\n",
    "# podaci['Ime kolone'].unique() # lista razlicitih elemenata iz kolone\n",
    "# podaci['Ime kolone'].value_counts() # broj ponavljanja svih razlicitih elemenata koji postoje u koloni"
   ]
  },
  {
   "cell_type": "code",
   "execution_count": null,
   "metadata": {},
   "outputs": [],
   "source": [
    "# sortiranje tabele\n",
    "# podaci.sort_values(by='kolona1') # sortiranje tabele po vrednostima u koloni1, ako se ne prosledi dodatni argument, sortiranje je u rastucem redosledu\n",
    "# podaci.sort_values(by='kolona1', ascending=False) # za opadajuci redosled"
   ]
  },
  {
   "cell_type": "code",
   "execution_count": 20,
   "metadata": {},
   "outputs": [],
   "source": [
    "# grupisanje tabele\n",
    "#podaci.groupby('kolona1') # grupise tabelu u podatabele koje imaju istu vrednost u koloni 1 koju ste izabrali, to je neki groupby objekat i ukoliko mu nista drugo ne uradite nije puno zanimljiv :)\n",
    "#podaci.groupby('kolona1').size() # ovo vam na primer daje velicinu podgrupa koju ste napravili; ovo je prakticno isti rezultat koji biste dobili pozivajuci value_counts() po istoj koloni \n",
    "#podaci.groupby(['kolona1','kolona2']).sum() # medjutim koristeci grouby, mozete grupisati tabelu i po vrednsotima vise kolona zajedno, u kom slucaju value_counts ne bi radilo, a onda mozete i sumirati elemente\n",
    "#podaci.groupby(['kolona1','kolona2']).mean() # ili racunati njihovu srednju vrednost"
   ]
  },
  {
   "cell_type": "code",
   "execution_count": 13,
   "metadata": {},
   "outputs": [],
   "source": [
    "# cuvanje tabele\n",
    "# podaci.to_csv('ime izmenjenog fajla.csv') # ako ste pravili neke promene u tabeli, dodavali neke kolone i slicno, ovo je nacin da je sacuvate u .csv formatu\n",
    "# podaci.to_csv('ime izmenjenog fajla.csv',index=False) # ako ne zelite da se sacuva index kolona (ako je to samo niz brojeva od 0, ako ste nesto pametnije koristili za index kolonu, u principu zelite da je sacuvate :)"
   ]
  },
  {
   "cell_type": "markdown",
   "metadata": {},
   "source": [
    "***Matplotlib.pyplot***"
   ]
  },
  {
   "cell_type": "code",
   "execution_count": 21,
   "metadata": {},
   "outputs": [],
   "source": [
    "# plt.show() # na kraju svakog niza komandi za izgled grafika koji pripremate"
   ]
  },
  {
   "cell_type": "code",
   "execution_count": 8,
   "metadata": {},
   "outputs": [],
   "source": [
    "# crtanje linijskih dijagrama\n",
    "# plt.plot(podaci['kolona2']) # najbazicnija opcija, nacrtace liniju sa podacima iz kolone kao y koordinatama, dok ce na x osi biti redni brojevi pocev od 0\n",
    "# plt.plot(podaci['kolona1'],podaci['kolona2']) # povezani linijski dijagram sa x i y osom\n",
    "# plt.plot(podaci['kolona1'],podaci['kolona2'],'o-') #povezani linijski dijagram sa oznacenim tackama na poznatim vrednostima podataka\n",
    "# plt.plot(podaci['kolona1'],podaci['kolona2'],'o--') #isprekidano povezani linijski dijagram sa oznacenim tackama na poznatim vrednostima podataka\n",
    "# plt.plot(podaci['kolona1'],podaci['kolona2'], color='salmon') #kontrola boje, moze imenom i/li heks kodom '#ff8c69'\n",
    "# plt.plot(podaci['kolona1'],podaci['kolona2'], label='linija 1') #naziv linije, neophodno za legendu"
   ]
  },
  {
   "cell_type": "code",
   "execution_count": 30,
   "metadata": {},
   "outputs": [],
   "source": [
    "# crtanje stubicastih dijagrama\n",
    "# plt.bar(podaci['kolona1'],podaci['kolona2']) # kolona1 su kategorije na x osi, kolona2 su visine stubica\n",
    "# plt.bar(podaci['kolona1'],podaci['kolona2'], width=0.3) # dodavanje argumenta width kontrolise sirinu stubica, boja i label se mogu dodati isto kao i kod plot funkcije\n",
    "# smicanje barova\n",
    "# sirina = 0.3\n",
    "# plt.bar(podaci['kolona1']-sirina/2,podaci['kolona2'], width=sirina) \n",
    "# plt.bar(podaci['kolona1']+sirina/2,podaci['kolona2'], width=sirina) "
   ]
  },
  {
   "cell_type": "code",
   "execution_count": 38,
   "metadata": {},
   "outputs": [],
   "source": [
    "# crtanje sektorskih dijagrama\n",
    "# plt.pie(podaci['kolona1']) # kolona brojeva koji ce biti iskorisceni za crtanje dijagrama, brojevi ne moraju unapred da se sumiraju u 100%, pajton ce izracunati procente i nacrtati odgovarajuce isecke \n",
    "# plt.pie(podaci['kolona1'], labels=podaci['kolona2']) # nazivi isecaka, ako crtate iste podatke kao i na stubicastom dijagramu, u labels biste prosledili onu kolonu koja je bila lista koordinata na x osi"
   ]
  },
  {
   "cell_type": "code",
   "execution_count": 12,
   "metadata": {},
   "outputs": [],
   "source": [
    "# oznake i opcije u vezi sa osama dijagrama\n",
    "# plt.xlabel('ime ose x')\n",
    "# plt.ylabel('ime ose y') #imena osa\n",
    "# plt.xlim([xmin,xmax])\n",
    "# plt.ylim([ymin,ymax]) #minimalna i maksimalna vrednost prikazane na osi\n",
    "# plt.title('naslov dijagrama') #ako hocete da dijagram ima nalsov"
   ]
  },
  {
   "cell_type": "code",
   "execution_count": null,
   "metadata": {},
   "outputs": [],
   "source": [
    "# vise slicica na jednom mestu\n",
    "# plt.subplot(broj_redova, broj_kolona, redni_broj_dijagrama) # na primer ako hocete 3 dijagrama u redu:\n",
    "# plt.subplot(1,3,1)\n",
    "# plt.plot(nesto)\n",
    "# plt.subplot(1,3,2)\n",
    "# plt.bar(nesto)\n",
    "# plt.subplot(1,3,3)\n",
    "# plt.pie(nesto)"
   ]
  },
  {
   "cell_type": "code",
   "execution_count": null,
   "metadata": {},
   "outputs": [],
   "source": [
    "# legenda\n",
    "# plt.legend() # ovo ce nacrtati legendu ako dijagrami koje ste nacrtali imaju svoje labele\n",
    "# plt.legend(['ime linije 1', 'ime linije 2']) # ako niste dodavali label argumente u grafike, mozete nazvati odgovarajuce linije na ovaj nacin\n",
    "# plt.legend(loc='upper right') # ako zelite da vam se legenda nalazi na specificnom mestu, listu mogucih lokacija mozete naci https://matplotlib.org/3.1.1/api/_as_gen/matplotlib.pyplot.legend.html"
   ]
  },
  {
   "cell_type": "code",
   "execution_count": null,
   "metadata": {},
   "outputs": [],
   "source": [
    "# horizontalne i vertikalne linije\n",
    "# plt.axhline(y=39) # horizontalna linija na poziciji y=39\n",
    "# plt.axvline(x=5) # vertikalna linija na poziciji x=5"
   ]
  },
  {
   "cell_type": "code",
   "execution_count": null,
   "metadata": {},
   "outputs": [],
   "source": [
    "# cuvanje slike\n",
    "# plt.savefig('ime slike.png',format='png')"
   ]
  }
 ],
 "metadata": {
  "kernelspec": {
   "display_name": "Python 3",
   "language": "python",
   "name": "python3"
  },
  "language_info": {
   "codemirror_mode": {
    "name": "ipython",
    "version": 3
   },
   "file_extension": ".py",
   "mimetype": "text/x-python",
   "name": "python",
   "nbconvert_exporter": "python",
   "pygments_lexer": "ipython3",
   "version": "3.6.5"
  }
 },
 "nbformat": 4,
 "nbformat_minor": 2
}
